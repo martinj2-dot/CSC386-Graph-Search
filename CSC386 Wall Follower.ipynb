{
  "nbformat": 4,
  "nbformat_minor": 0,
  "metadata": {
    "colab": {
      "name": "potential_field.ipynb",
      "provenance": [],
      "collapsed_sections": [],
      "include_colab_link": true
    },
    "kernelspec": {
      "name": "python3",
      "display_name": "Python 3"
    },
    "language_info": {
      "name": "python"
    }
  },
  "cells": [
    {
      "cell_type": "markdown",
      "metadata": {
        "id": "view-in-github",
        "colab_type": "text"
      },
      "source": [
        "<a href=\"https://colab.research.google.com/github/martinj2-dot/CSC386-Wall-Follower/blob/main/CSC386%20Wall%20Follower.ipynb\" target=\"_parent\"><img src=\"https://colab.research.google.com/assets/colab-badge.svg\" alt=\"Open In Colab\"/></a>"
      ]
    },
    {
      "cell_type": "markdown",
      "metadata": {
        "id": "VrPSs9KWgSEV"
      },
      "source": [
        "# Creating Potential Fields\n",
        "\n",
        "This notebook allows us to manipulate and visualize potential fields which can be used for navigation."
      ]
    },
    {
      "cell_type": "code",
      "metadata": {
        "id": "bFEDonBjfi_o"
      },
      "source": [
        "import math\n",
        "import numpy as np\n",
        "import matplotlib.pyplot as plt\n",
        "from matplotlib import cm"
      ],
      "execution_count": null,
      "outputs": []
    },
    {
      "cell_type": "markdown",
      "metadata": {
        "id": "riNxeZ3df8wM"
      },
      "source": [
        "The following block defines a default, small map and defines some functions which can be used to load a map."
      ]
    },
    {
      "cell_type": "code",
      "metadata": {
        "id": "UgWl-jUle28G"
      },
      "source": [
        "HIGH = 1e6\n",
        "\n",
        "class MapParams(object):\n",
        "    def __init__(self):\n",
        "        self.origin = []\n",
        "        self.width = None\n",
        "        self.height = None\n",
        "        self.meters_per_cell = None\n",
        "        self.file_path = \"test_map.map\"\n",
        "\n",
        "    def as_string_list(self):\n",
        "        data = self.origin + [self.width, self.height, self.meters_per_cell]\n",
        "        return [str(ele) for ele in data]\n",
        "\n",
        "\n",
        "def read_map(map_data, map_file):\n",
        "    params = MapParams()\n",
        "    params.file_path = map_file\n",
        "    map_data = map_data.split(\"\\n\")\n",
        "\n",
        "    # Read header.\n",
        "    header = map_data.pop(0).strip().split()\n",
        "    params.origin = [float(ele) for ele in header[:2]]\n",
        "    params.width, params.height = int(header[2]), int(header[3])\n",
        "    params.meters_per_cell = float(header[4])\n",
        "\n",
        "    data = []\n",
        "    for line in map_data:\n",
        "        if len(line) == 0:\n",
        "            continue\n",
        "\n",
        "        row = line.strip().split(' ')\n",
        "        row = [int(ele) for ele in row]\n",
        "\n",
        "        if len(row) != params.width:\n",
        "            print(\"Warning: Row has incorrect length\", len(row))\n",
        "            row += [0] * (params.width - len(row))\n",
        "\n",
        "        data.append(row)\n",
        "\n",
        "    data = np.array(data)\n",
        "\n",
        "    # Make sure the data has the right number of rows.\n",
        "    if data.shape[0] < params.height:\n",
        "        print(\"Warning: Map has incorrect number of rows\", data.shape[0])\n",
        "        zeros = np.zeros((params.height - data.shape[0], params.width), dtype=int)\n",
        "        data = np.concatenate([data, zeros])\n",
        "\n",
        "    return params, data\n",
        "\n",
        "params = MapParams()\n",
        "params.height, params.width = (6, 6)\n",
        "params.meters_per_cell = 1\n",
        "img = [0, 0, 0, 0, 0, 1,\n",
        "       0, 1, 0, 0, 0, 1,\n",
        "       0, 1, 0, 0, 0, 0,\n",
        "       0, 1, 1, 0, 0, 0,\n",
        "       0, 1, 1, 0, 0, 0,\n",
        "       0, 0, 0, 0, 0, 0]\n",
        "\n",
        "img = np.array(img, dtype=bool).reshape((params.height, params.width))"
      ],
      "execution_count": null,
      "outputs": []
    },
    {
      "cell_type": "markdown",
      "metadata": {
        "id": "Eu9ycgmBguwJ"
      },
      "source": [
        "## Upload a map file\n",
        "\n",
        "To upload a map file, run this cell. Don't run it to use the default small image."
      ]
    },
    {
      "cell_type": "code",
      "metadata": {
        "id": "0VW2-KEbfuiH"
      },
      "source": [
        "from google.colab import files\n",
        "uploaded = files.upload()\n",
        "\n",
        "for fn in uploaded.keys():\n",
        "    if not fn.endswith(\".map\"):\n",
        "        print(\"Please upload a .map file.\")\n",
        "    else:\n",
        "        # Load the map data.\n",
        "        params, data = read_map(uploaded[fn].decode(\"utf-8\"), fn)\n",
        "        img = data > 100"
      ],
      "execution_count": null,
      "outputs": []
    },
    {
      "cell_type": "markdown",
      "metadata": {
        "id": "timZPgYcjeOr"
      },
      "source": [
        "## Some useful functions\n",
        "\n",
        "The function `goal_distances()` returns a grid with the same shape as the image containing the Euclidean distance to the goal at each cell. This includes the square root!\n",
        "\n",
        "The functions `dt_euclidean()` and `dt_manhattan()` perform the Manhattan and Euclidean distance transform for a given image respectively.\n",
        "\n",
        "We will use these functions to create attractive and repulsive potentials in the next section."
      ]
    },
    {
      "cell_type": "code",
      "metadata": {
        "id": "mdmHyCY5goQy"
      },
      "source": [
        "def goal_distances(img, goal):\n",
        "    h, w = img.shape\n",
        "    idx = np.stack(np.meshgrid(np.arange(h), np.arange(w)), axis=-1)\n",
        "    dists = ((idx - np.array(goal))**2).sum(axis=2)\n",
        "    return np.sqrt(dists)"
      ],
      "execution_count": null,
      "outputs": []
    },
    {
      "cell_type": "code",
      "metadata": {
        "id": "fOXT8-i_i4ni"
      },
      "source": [
        "def dt_euclidean(img):\n",
        "    H, W = img.shape\n",
        "    dt = np.zeros((H, W))\n",
        "\n",
        "    free = np.stack(np.nonzero(np.bitwise_not(img)), axis=1)\n",
        "    occ = np.stack(np.nonzero(img), axis=1)\n",
        "\n",
        "    free_norm = (free * free).sum(1).reshape(-1, 1)\n",
        "    occ_norm = (occ * occ).sum(1).reshape(1, -1)\n",
        "    dists = free_norm + occ_norm - 2.0 * free.dot(occ.T)\n",
        "\n",
        "    dt[free[:, 0], free[:, 1]] = dists.min(axis=1)\n",
        "\n",
        "    return np.sqrt(dt)"
      ],
      "execution_count": null,
      "outputs": []
    },
    {
      "cell_type": "code",
      "metadata": {
        "id": "w3Dn0ZJakfXW"
      },
      "source": [
        "def dt_manhattan(img):\n",
        "    H, W = img.shape\n",
        "    dt = np.zeros((H, W))\n",
        "\n",
        "    free = np.stack(np.nonzero(np.bitwise_not(img)), axis=1)\n",
        "    occ = np.stack(np.nonzero(img), axis=1)\n",
        "    dists = np.abs(np.expand_dims(free, axis=-1) - np.expand_dims(occ.T, axis=0)).sum(axis=1)\n",
        "\n",
        "    dt[free[:, 0], free[:, 1]] = dists.min(axis=1)\n",
        "\n",
        "    return dt"
      ],
      "execution_count": null,
      "outputs": []
    },
    {
      "cell_type": "markdown",
      "metadata": {
        "id": "QU5_-GX3p-qN"
      },
      "source": [
        "## Potential Functions\n",
        "\n",
        "Change these functions to modify the attractive and repulsive potentials."
      ]
    },
    {
      "cell_type": "code",
      "metadata": {
        "id": "uxd_rNJtp9s7"
      },
      "source": [
        "def create_attractive_potential(goal_dists):\n",
        "    \"\"\"TODO: Change this function to see the effect of different attractive potentials.\"\"\"\n",
        "    att_field = np.zeros(goal_dists.shape)  # Put the attractive field here.\n",
        "    \n",
        "    \"\"\"1. The cone potential.\"\"\"\n",
        "    att_field = goal_dists / goal_dists.max()  # Normalizes between 0 and 1.\n",
        "    \n",
        "    \"\"\"2. The bowl potential. (Leave cone potential uncommented)\"\"\"\n",
        "    # att_field = att_field * att_field\n",
        "    \n",
        "    return att_field"
      ],
      "execution_count": null,
      "outputs": []
    },
    {
      "cell_type": "code",
      "metadata": {
        "id": "d6ogJmZ8qG5U"
      },
      "source": [
        "def create_repulsive_potential(dt):\n",
        "    \"\"\"TODO: Change this function to see the effect of different repulsive potentials.\n",
        "       Only uncomment one of the options.\"\"\"\n",
        "    rep_field = np.zeros(goal_dists.shape)  # Put the repulsive field here.\n",
        "\n",
        "    \"\"\"1. Normalized negative distance transform.\"\"\"\n",
        "    rep_field = -dt / dt.max()\n",
        "\n",
        "    \"\"\"2. Thresholded negative distance transform.\"\"\"\n",
        "    # Dividing thresh by meters_per_cell converts the threshold from meters to cells, so it doesn't depend on the size \n",
        "    # of the map.\n",
        "    # thresh = 0.3 / params.meters_per_cell  # Try different thresholds!\n",
        "    # rep_field = np.where(dt > thresh, thresh, dt)\n",
        "    # rep_field = rep_field / thresh  # Normalizes between 0 and 1.\n",
        "\n",
        "    \"\"\"3. The expotential potential.\"\"\"\n",
        "    # sigma = 0.1  # Modify sigma to see the effects of different values.\n",
        "    # rep_field = np.exp(-dt * sigma)\n",
        "\n",
        "    return rep_field"
      ],
      "execution_count": null,
      "outputs": []
    },
    {
      "cell_type": "markdown",
      "metadata": {
        "id": "INgT5suIrDco"
      },
      "source": [
        "## Combining the potentials\n",
        "\n",
        "The following block combines the potential functions by adding them together. You can change which distance transform is used, the goal location, or add any other features you'd like to the final potential here."
      ]
    },
    {
      "cell_type": "code",
      "metadata": {
        "id": "Ou7CjcVurRNb"
      },
      "source": [
        "\"\"\"TODO: Try different goals.\"\"\"\n",
        "GOAL = (50, 50)\n",
        "\n",
        "\"\"\"TODO: Try changing between the Euclidean and Manhattan distance transforms.\"\"\"\n",
        "goal_dists = goal_distances(img, GOAL)\n",
        "# dt = dt_manhattan(img)\n",
        "dt = dt_euclidean(img)\n",
        "\n",
        "# Call the potential field functions.\n",
        "att_field = create_attractive_potential(goal_dists)\n",
        "rep_field = create_repulsive_potential(dt)\n",
        "\n",
        "# Combine potential fields.\n",
        "\"\"\"TODO: Perform any modifications to how the overall potential is calculated here.\"\"\"\n",
        "potential = att_field + rep_field"
      ],
      "execution_count": null,
      "outputs": []
    },
    {
      "cell_type": "markdown",
      "metadata": {
        "id": "Q8DNuSD4rwQt"
      },
      "source": [
        "## Visualizing the potentials\n",
        "\n",
        "This cell graphs the image, distance transform, and goal distances, as well as each of the potentials in 2D."
      ]
    },
    {
      "cell_type": "code",
      "metadata": {
        "id": "bh8sGRbjsjzu"
      },
      "source": [
        "def plot_img(data, title):\n",
        "    plt.title(title + \"\\n\")\n",
        "    ax = plt.gca()\n",
        "    cax = ax.matshow(data, cmap=plt.get_cmap(\"viridis\"))\n",
        "    plt.colorbar(cax, shrink=0.8)\n",
        "    # plt.xticks([])\n",
        "    # plt.yticks([])\n",
        "\n",
        "\n",
        "plt.rcParams['figure.figsize'] = (15.0, 10.0)\n",
        "plt.figure()\n",
        "\n",
        "plt.subplot(2, 3, 1)\n",
        "plot_img(img.astype(int), \"Image\")\n",
        "\n",
        "plt.subplot(2, 3, 2)\n",
        "plot_img(dt, \"Distance Transform\")\n",
        "\n",
        "plt.subplot(2, 3, 3)\n",
        "plot_img(goal_dists, \"Goal Distances\")\n",
        "\n",
        "plt.subplot(2, 3, 4)\n",
        "plot_img(att_field, \"Attractive Potential\")\n",
        "\n",
        "plt.subplot(2, 3, 5)\n",
        "plot_img(rep_field, \"Repulsive Potential\")\n",
        "\n",
        "plt.subplot(2, 3, 6)\n",
        "plot_img(potential, \"Potential Field\")\n",
        "\n",
        "plt.tight_layout()\n",
        "\n",
        "plt.show()"
      ],
      "execution_count": null,
      "outputs": []
    },
    {
      "cell_type": "markdown",
      "metadata": {
        "id": "IroljX4-ttlY"
      },
      "source": [
        "This cell graphs each potential in 3D. To modify the viewing angle, pass in view angles (in degrees) to the plot 3D function. For example, this code modifies the view angle:\n",
        "```python\n",
        "  plot3D(potential, \"Title\", [0, 0])  # View from straight on\n",
        "  plot3D(potential, \"Title\", [75, 30])  # View from a higher angle\n",
        "```\n",
        "The first value controls the height to view from. The second value controls rotation about the _z_-axis."
      ]
    },
    {
      "cell_type": "code",
      "metadata": {
        "id": "EXZU3-Hir5ov"
      },
      "source": [
        "def plot3D(field, title, view=[]):\n",
        "    h, w = field.shape\n",
        "    fig, ax = plt.subplots(subplot_kw={\"projection\": \"3d\"})\n",
        "    plt.title(title + \"\\n\")\n",
        "\n",
        "    # Make data.\n",
        "    X = np.arange(0, w)\n",
        "    Y = np.arange(0, h)\n",
        "    X, Y = np.meshgrid(X, Y)\n",
        "\n",
        "    # Plot the surface.\n",
        "    surf = ax.plot_surface(X, Y, field, cmap=cm.viridis,\n",
        "                           linewidth=0, antialiased=False)\n",
        "    \n",
        "    if view:\n",
        "        ax.view_init(view[0], view[1])\n",
        "\n",
        "    # Add a color bar which maps values to colors.\n",
        "    fig.colorbar(surf, shrink=0.7)\n",
        "\n",
        "plt.rcParams['figure.figsize'] = (12.0, 8.0)\n",
        "\n",
        "plot3D(att_field, \"Attractive Potential\")\n",
        "plot3D(rep_field, \"Repulsive Potential\")\n",
        "plot3D(potential, \"Potential Field\")\n",
        "\n",
        "plt.show()"
      ],
      "execution_count": null,
      "outputs": []
    },
    {
      "cell_type": "code",
      "metadata": {
        "id": "ttOix5g2sfH5"
      },
      "source": [
        ""
      ],
      "execution_count": null,
      "outputs": []
    }
  ]
}