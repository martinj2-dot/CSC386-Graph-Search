{
  "nbformat": 4,
  "nbformat_minor": 0,
  "metadata": {
    "colab": {
      "name": "username - CSC386 Wall Follower.ipynb",
      "provenance": [],
      "collapsed_sections": [],
      "include_colab_link": true
    },
    "kernelspec": {
      "name": "python3",
      "display_name": "Python 3"
    },
    "language_info": {
      "name": "python"
    }
  },
  "cells": [
    {
      "cell_type": "markdown",
      "metadata": {
        "id": "view-in-github",
        "colab_type": "text"
      },
      "source": [
        "<a href=\"https://colab.research.google.com/github/martinj2-dot/CSC386-Wall-Follower/blob/main/username_CSC386_Wall_Follower.ipynb\" target=\"_parent\"><img src=\"https://colab.research.google.com/assets/colab-badge.svg\" alt=\"Open In Colab\"/></a>"
      ]
    },
    {
      "cell_type": "markdown",
      "metadata": {
        "id": "4T579WJkFsck"
      },
      "source": [
        "# A00: Wall Follower\n",
        "* This assignment should be done individually or with a partner.\n",
        "* You should seek help completing this assignment from the TAs at the evening lab."
      ]
    },
    {
      "cell_type": "markdown",
      "metadata": {
        "id": "0zDwgGWSFxgQ"
      },
      "source": [
        "### Learning Objectives \n",
        "* Practice breaking a larger problem down into smaller pieces using functions.\n",
        "* Gain practice manipulating arrays.\n",
        "* Establish and understanding of the Wall-Follower algorithm and its purpose"
      ]
    },
    {
      "cell_type": "markdown",
      "metadata": {
        "id": "v0A1beWyGEeX"
      },
      "source": [
        "### How to Start\n",
        "* To begin, save a copy in Drive and share it with all members of your team.\n",
        "* Change the file name of this document to username1, username2 - A00: Wall Follower (for example, neillz, martinj2 - A00: Wall Follower). "
      ]
    },
    {
      "cell_type": "markdown",
      "metadata": {
        "id": "VrPSs9KWgSEV"
      },
      "source": [
        "### Additional Notes\n",
        "This assignment utilizes Google Colab. If you are unfamiliar with Colab, don’t worry. The idea is that you can write both code and read text. **Real-time saving was deprecated in 2018. Your partner must refresh the page to see your changes.**\n",
        "\n",
        "The assignment has three activities: Drive Square, Drive Safe, and Wall Follower. There is no git workflow associated with this project. Once you are finished, submit the link to Moodle."
      ]
    },
    {
      "cell_type": "code",
      "metadata": {
        "id": "VmGEMJWyPd7X",
        "colab": {
          "base_uri": "https://localhost:8080/",
          "height": 130
        },
        "outputId": "495c492f-4183-4424-95f5-9964c8f1c153"
      },
      "source": [
        "HIGH = 1e6\n",
        "\n",
        "class Node: \n",
        "  \"\"\"\n",
        "  parent: The index of the parent node of the current node\n",
        "  distances: the distance of each node, inatilized high and updated from data in mi_graph.txt\n",
        "  visited: boolean type, whether or not the node has been visited\n",
        "  queued: boolean type, whether or not the node has been queued\n",
        "  \"\"\"\n",
        "  def __init__(self):\n",
        "    self.parent = -1\n",
        "    self.distances = 50000\n",
        "    self.visited = False\n",
        "    self.queued = False\n",
        "\n",
        "# Functions we will be using\n",
        "\n",
        "def nameToIdx(name, v):\n",
        "  for i in range(len(v)):\n",
        "    if v[i] == name: return i \n",
        "    else: return -1\n",
        "\n",
        "def createGraph(file_path):\n",
        "  g = Graph()\n",
        "  ifstream in(file_path)\n",
        "  if not in.is_open():\n",
        "    f\"ERROR: Failed to load graph from {file_path}\"\n",
        "    return g\n",
        "\n",
        "  s = \"\"\n",
        "  N = 0\n",
        "  while s != \"NODES\": in >> s >> N\n",
        "\n",
        "  for i in range(N):\n",
        "    in >> s\n",
        "    g.data.push_back(s)\n",
        "\n",
        "  g.edges = []\n",
        "  g.edge_costs = []\n",
        "\n",
        "  while s != \"EDGES\": in >> s >> N\n",
        "\n",
        "  city1, city2 = \"\"\n",
        "  for i in range(N):\n",
        "    in >> city1 >> city2 >> dist\n",
        "    c1 = nameToIdx(city1, g.data)\n",
        "    c2 = nameToIdx(city2, g.data)\n",
        "    g.edges[c1].push_back(c2)\n",
        "    g.edges[c2].push_back(c1)\n",
        "    g.edge_costs[c1].push_back(dist)\n",
        "    g.edge_costs[c2].push_back(dist)\n",
        "  return g\n",
        "\n",
        "def tracePath(n, g):\n",
        "  path = []\n",
        "  curr = n\n",
        "  while curr != -1:\n",
        "    path.push_back(curr)\n",
        "    curr = getParent(curr, g)\n",
        "\n",
        "  # Since we built the path backwards, we need to reverse it.\n",
        "  reverse(path.begin(), path.end())\n",
        "  return path\n",
        "\n",
        "def printPath(path, g):\n",
        "  if len(path) < 1:\n",
        "    print(\"No path found :(\\n\")\n",
        "    return 0\n",
        "\n",
        "  print(\"Path: \")\n",
        "    for i in range(len(path) -1) f\"{g.data[path[i]]} -> \")\n",
        "    print(g.data[path.back()] + \"\\n\")\n",
        "\n",
        "def getNeighbors(n, g): return g.edges[n]\n",
        "\n",
        "def getEdgeCosts(n, g): return g.edge_costs[n]\n",
        "\n",
        "def getParent(idx, g): return g.nodes[idx].parent \n",
        "\n",
        "def initGraph(g):\n",
        "  # populates a vector of nodes with size(graph data)\n",
        "    for i in range(len(g.data)):\n",
        "      node = Node()\n",
        "      g.nodes.push_back(node)\n",
        "    }\n",
        "}\n",
        "\n",
        "def bfs(start, goal, g):\n",
        "  initGraph(g)\n",
        "  path = []\n",
        "  visit_list = []\n",
        "  currentIdx = start\n",
        "  g.nodes[currentIdx].distances = 0\n",
        "  g.nodes[currentIdx].queued = True\n",
        "  visit_list.push(currentIdx)\n",
        "\n",
        "  while not visit_list.empty():\n",
        "    currentIdx = visit_list.front()\n",
        "    g.nodes[currentIdx].visited = true\n",
        "    neighbors = getNeighbors(currentIdx, g)\n",
        "    edge_weights = getEdgeCosts(currentIdx, g)\n",
        "    if currentIdx == goal:           # Checks to see if current node is goal node. Returns path of it is\n",
        "      path = tracePath(currentIdx, g)\n",
        "      break\n",
        "    visit_list.pop()\n",
        "\n",
        "    for i in range(len(neighbors)):                # Populates node data for each node, within the vector of nodes.\n",
        "      if not g.nodes[neighbors[i]].visited:        # Checks to see if the node has been visited\n",
        "        if not g.nodes[neighbors[i]].queued:       # Checks to see if the node has been queued\n",
        "          visit_list.push(neighbors[i])            # Pushes current node to the back of the queue if all conditions are false\n",
        "\n",
        "        if g.nodes[neighbors[i]].distances > g.nodes[currentIdx].distances + edge_weights[i]: # what happens if we run into a loop\n",
        "          g.nodes[neighbors[i]].distances = g.nodes[currentIdx].distances + edge_weights[i] # updates distances of current node\n",
        "          g.nodes[neighbors[i]].parent = currentIdx # sets parent index to current index of the current node\n",
        "  return path\n",
        "\n",
        "def main() {\n",
        "  Graph g = createGraph(\"graph.txt\")\n",
        "\n",
        "  start = nameToIdx(\"ann_arbor\", g.data)\n",
        "  goal = nameToIdx(\"marquette\", g.data)\n",
        "\n",
        "  f\"Searching for a path from {g.data[start]} (index: {start}) to {g.data[goal]} (index: {goal})...\\n\"\n",
        "  path = bfs(start, goal, g)\n",
        "  printPath(path, g)\n",
        "\n",
        "  return 0"
      ],
      "execution_count": null,
      "outputs": [
        {
          "output_type": "error",
          "ename": "SyntaxError",
          "evalue": "ignored",
          "traceback": [
            "\u001b[0;36m  File \u001b[0;32m\"<ipython-input-10-de3bdb3741aa>\"\u001b[0;36m, line \u001b[0;32m25\u001b[0m\n\u001b[0;31m    std::ifstream in(file_path)\u001b[0m\n\u001b[0m        ^\u001b[0m\n\u001b[0;31mSyntaxError\u001b[0m\u001b[0;31m:\u001b[0m invalid syntax\n"
          ]
        }
      ]
    },
    {
      "cell_type": "markdown",
      "metadata": {
        "id": "zwfd4IEkOBRm"
      },
      "source": [
        "### Submission Instructions\n",
        "* Set the link to “Anyone with the link can view”.\n",
        "* Submit the link to Moodle before the date: **MM/DD/YY**"
      ]
    },
    {
      "cell_type": "code",
      "metadata": {
        "id": "qSZSJ3qmXmy0"
      },
      "source": [
        ""
      ],
      "execution_count": null,
      "outputs": []
    }
  ]
}