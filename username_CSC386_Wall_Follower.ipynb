{
  "nbformat": 4,
  "nbformat_minor": 0,
  "metadata": {
    "colab": {
      "name": "username - CSC386 Wall Follower.ipynb",
      "provenance": [],
      "collapsed_sections": [],
      "include_colab_link": true
    },
    "kernelspec": {
      "name": "python3",
      "display_name": "Python 3"
    },
    "language_info": {
      "name": "python"
    }
  },
  "cells": [
    {
      "cell_type": "markdown",
      "metadata": {
        "id": "view-in-github",
        "colab_type": "text"
      },
      "source": [
        "<a href=\"https://colab.research.google.com/github/martinj2-dot/CSC386-Wall-Follower/blob/main/username_CSC386_Wall_Follower.ipynb\" target=\"_parent\"><img src=\"https://colab.research.google.com/assets/colab-badge.svg\" alt=\"Open In Colab\"/></a>"
      ]
    },
    {
      "cell_type": "markdown",
      "metadata": {
        "id": "4T579WJkFsck"
      },
      "source": [
        "# A00: Wall Follower\n",
        "* This assignment should be done individually or with a partner.\n",
        "* You should seek help completing this assignment from the TAs at the evening lab."
      ]
    },
    {
      "cell_type": "markdown",
      "metadata": {
        "id": "0zDwgGWSFxgQ"
      },
      "source": [
        "### Learning Objectives \n",
        "* Practice breaking a larger problem down into smaller pieces using functions.\n",
        "* Gain practice manipulating arrays.\n",
        "* Establish and understanding of the Wall-Follower algorithm and its purpose"
      ]
    },
    {
      "cell_type": "markdown",
      "metadata": {
        "id": "v0A1beWyGEeX"
      },
      "source": [
        "### How to Start\n",
        "* To begin, save a copy in Drive and share it with all members of your team. **Colab does not let you make changes until you save a copy**\n",
        "* Change the file name of this document to username1, username2 - A00: Wall Follower (for example, neillz, martinj2 - A00: Wall Follower). "
      ]
    },
    {
      "cell_type": "markdown",
      "metadata": {
        "id": "VrPSs9KWgSEV"
      },
      "source": [
        "### Additional Notes\n",
        "This assignment utilizes Google Colab. If you are unfamiliar with Colab, don’t worry. The idea is that you can write both code and read text. **Real-time saving was deprecated in 2018. Your partner must refresh the page to see your changes.**\n",
        "\n",
        "The assignment has three activities: Drive Square, Drive Safe, and Wall Follower. There is no git workflow associated with this project. Once you are finished, submit the link to Moodle."
      ]
    },
    {
      "cell_type": "code",
      "metadata": {
        "colab": {
          "base_uri": "https://localhost:8080/"
        },
        "id": "GIKK-u4uoTjs",
        "outputId": "17e8a175-c05d-4669-abd2-cd740a1cd569"
      },
      "source": [
        "import os\n",
        "import shutil\n",
        "if os.path.exists(\"/content/data\"):\n",
        "  print(\"File exists. Replacing to avoid error.\")\n",
        "  shutil.rmtree(\"/content/data\")\n",
        "\n",
        "os.mkdir(\"/content/data\")\n",
        "!wget -P /content/data https://raw.githubusercontent.com/martinj2-dot/CSC386-Wall-Follower/main/data.txt # Read the downloaded data\n",
        "data = open(\"/content/data/data.txt\", \"r\")\n",
        "print(\"\\nThe file looks like:\\n\"+data.read())\n",
        "data.close()"
      ],
      "execution_count": null,
      "outputs": [
        {
          "output_type": "stream",
          "name": "stdout",
          "text": [
            "File exists. Replacing to avoid error.\n",
            "shell-init: error retrieving current directory: getcwd: cannot access parent directories: No such file or directory\n",
            "--2021-12-03 05:57:11--  https://raw.githubusercontent.com/martinj2-dot/CSC386-Wall-Follower/main/data.txt\n",
            "Resolving raw.githubusercontent.com (raw.githubusercontent.com)... 185.199.108.133, 185.199.111.133, 185.199.109.133, ...\n",
            "Connecting to raw.githubusercontent.com (raw.githubusercontent.com)|185.199.108.133|:443... connected.\n",
            "HTTP request sent, awaiting response... 200 OK\n",
            "Length: 629 [text/plain]\n",
            "Saving to: ‘/content/data/data.txt’\n",
            "\n",
            "\rdata.txt              0%[                    ]       0  --.-KB/s               \rdata.txt            100%[===================>]     629  --.-KB/s    in 0s      \n",
            "\n",
            "2021-12-03 05:57:11 (29.4 MB/s) - ‘/content/data/data.txt’ saved [629/629]\n",
            "\n",
            "\n",
            "The file looks like:\n",
            "alma\n",
            "alpena\n",
            "ann_arbor\n",
            "benton_harbor\n",
            "cadillac\n",
            "detroit\n",
            "escanaba\n",
            "flint\n",
            "grand_rapids\n",
            "kalamazoo\n",
            "lansing\n",
            "mackinaw_city\n",
            "marquette\n",
            "saginaw\n",
            "traverse_city\n",
            "^ Above are the nodes, below are the distances to the edges\n",
            "benton_harbor kalamazoo 52\n",
            "kalamazoo ann_arbor 99\n",
            "ann_arbor detroit 42\n",
            "benton_harbor grand_rapids 80\n",
            "grand_rapids kalamazoo 50\n",
            "grand_rapids lansing 67\n",
            "lansing ann_arbor 65\n",
            "lansing detroit 90\n",
            "alma lansing 54\n",
            "flint detroit 80\n",
            "flint saginaw 40\n",
            "alma saginaw 38\n",
            "cadillac alma 84\n",
            "traverse_city cadillac 48\n",
            "saginaw alpena 148\n",
            "traverse_city mackinaw_city 116\n",
            "alpena mackinaw_city 94\n",
            "mackinaw_city escanaba 147\n",
            "escanaba marquette 66\n",
            "\n"
          ]
        }
      ]
    },
    {
      "cell_type": "code",
      "metadata": {
        "id": "VmGEMJWyPd7X",
        "colab": {
          "base_uri": "https://localhost:8080/",
          "height": 860
        },
        "outputId": "1dcbfbd6-2e63-42e6-b5f6-ed531a7f54a5"
      },
      "source": [
        "class Node: \n",
        "  \"\"\"\n",
        "  parent: The index of the parent node of the current node\n",
        "  distances: the distance of each node, inatilized high and updated from data in mi_graph.txt\n",
        "  visited: boolean type, whether or not the node has been visited\n",
        "  queued: boolean type, whether or not the node has been queued\n",
        "  \"\"\"\n",
        "  def __init__(self):\n",
        "    self.parent = -1\n",
        "    self.distances = 1e6\n",
        "    self.visited = False\n",
        "    self.queued = False\n",
        "\n",
        "class Graph:\n",
        "  def __init__(self): \n",
        "    self.content = open(\"/content/data/data.txt\", \"r\")\n",
        "    self.data = []\n",
        "    self.edges = []\n",
        "    self.edge_costs = []\n",
        "    self.createGraph()\n",
        "  def createGraph(self):\n",
        "    node = True\n",
        "    count = 0\n",
        "    lines = self.content.readlines()\n",
        "    for line in lines:\n",
        "      if \"^\" in line: \n",
        "        node = False\n",
        "        num_nodes = count\n",
        "      if node: # If the line is a node\n",
        "        self.data.append(line)\n",
        "        count +=1\n",
        "      else:\n",
        "        for i in range(num_nodes):\n",
        "          file_to_edge = line.split()\n",
        "          c1 = nameToIdx(file_to_edge[1], self.data)\n",
        "          c2 = nameToIdx(file_to_edge[2], self.data)\n",
        "          self.edges[c1].append(c2)\n",
        "          self.edges[c2].append(c1)\n",
        "          self.edge_costs[c1].append(float(file_to_edge[3]))\n",
        "          self.edge_costs[c2].append(float(file_to_edge[3]))\n",
        "\n",
        "\n",
        "# Functions we will be using\n",
        "\n",
        "def nameToIdx(name, v):\n",
        "  for i in range(len(v)):\n",
        "    if v[i] == name: return i \n",
        "    else: return -1\n",
        "\n",
        "def tracePath(n, g):\n",
        "  path = []\n",
        "  curr = n\n",
        "  while curr != -1:\n",
        "    path.append(curr)\n",
        "    curr = getParent(curr, g)\n",
        "\n",
        "  # Since we built the path backwards, we need to reverse it.\n",
        "  reverse(path.begin(), path.end())\n",
        "  return path\n",
        "\n",
        "def getNeighbors(n, g): return g.edges[n]\n",
        "\n",
        "def getEdgeCosts(n, g): return g.edge_costs[n]\n",
        "\n",
        "def getParent(idx, g): return g.nodes[idx].parent \n",
        "\n",
        "def initGraph(g):\n",
        "  # populates a vector of nodes with size(graph data)\n",
        "    for i in range(len(g.data)):\n",
        "      node = Node()\n",
        "      g.nodes.append(node)\n",
        "\n",
        "def bfs(start, goal, g):\n",
        "  initGraph(g)\n",
        "  path = []\n",
        "  visit_list = []\n",
        "  currentIdx = start\n",
        "  g.nodes[currentIdx].distances = 0\n",
        "  g.nodes[currentIdx].queued = True\n",
        "  visit_list.push(currentIdx)\n",
        "\n",
        "  while not visit_list.empty():\n",
        "    currentIdx = visit_list[0]\n",
        "    g.nodes[currentIdx].visited = true\n",
        "    neighbors = getNeighbors(currentIdx, g)\n",
        "    edge_weights = getEdgeCosts(currentIdx, g)\n",
        "    if currentIdx == goal:           # Checks to see if current node is goal node. Returns path of it is\n",
        "      path = tracePath(currentIdx, g)\n",
        "      break\n",
        "    visit_list.pop()\n",
        "\n",
        "    for i in range(len(neighbors)):                # Populates node data for each node, within the vector of nodes.\n",
        "      if not g.nodes[neighbors[i]].visited:        # Checks to see if the node has been visited\n",
        "        if not g.nodes[neighbors[i]].queued:       # Checks to see if the node has been queued\n",
        "          visit_list.push(neighbors[i])            # Pushes current node to the back of the queue if all conditions are false\n",
        "\n",
        "        if g.nodes[neighbors[i]].distances > g.nodes[currentIdx].distances + edge_weights[i]: # what happens if we run into a loop\n",
        "          g.nodes[neighbors[i]].distances = g.nodes[currentIdx].distances + edge_weights[i] # updates distances of current node\n",
        "          g.nodes[neighbors[i]].parent = currentIdx # sets parent index to current index of the current node\n",
        "  return path\n",
        "\n",
        "def main():\n",
        "  g = Graph()\n",
        "  start = nameToIdx(\"ann_arbor\", g.data)\n",
        "  goal = nameToIdx(\"marquette\", g.data)\n",
        "\n",
        "  f\"Searching for a path from {g.data[start]} (index: {start}) to {g.data[goal]} (index: {goal})...\\n\"\n",
        "  path = bfs(start, goal, g)\n",
        "  \n",
        "  if len(path) < 1:\n",
        "    print(\"No path found :(\\n\")\n",
        "  else:\n",
        "    print(\"Path: \")\n",
        "    for i in range(len(path)-1): \n",
        "      f\"{g.data[path[i]]} -> \"\n",
        "    f\"(g.data[path.back()]\\n\"\n",
        "  return 0\n",
        "\n",
        "if __name__ == \"__main__\":\n",
        "  main()\n"
      ],
      "execution_count": null,
      "outputs": [
        {
          "output_type": "stream",
          "name": "stderr",
          "text": [
            "ERROR:root:Internal Python error in the inspect module.\n",
            "Below is the traceback from this internal error.\n",
            "\n"
          ]
        },
        {
          "output_type": "stream",
          "name": "stdout",
          "text": [
            "Traceback (most recent call last):\n",
            "  File \"/usr/local/lib/python3.7/dist-packages/IPython/core/interactiveshell.py\", line 2882, in run_code\n",
            "    exec(code_obj, self.user_global_ns, self.user_ns)\n",
            "  File \"<ipython-input-76-5bf3bfe27973>\", line 120, in <module>\n",
            "    main()\n",
            "  File \"<ipython-input-76-5bf3bfe27973>\", line 103, in main\n",
            "    g = Graph()\n",
            "  File \"<ipython-input-76-5bf3bfe27973>\", line 20, in __init__\n",
            "    self.createGraph()\n",
            "  File \"<ipython-input-76-5bf3bfe27973>\", line 37, in createGraph\n",
            "    self.edges[c1].append(c2)\n",
            "IndexError: list index out of range\n",
            "\n",
            "During handling of the above exception, another exception occurred:\n",
            "\n",
            "Traceback (most recent call last):\n",
            "  File \"/usr/local/lib/python3.7/dist-packages/IPython/core/interactiveshell.py\", line 1823, in showtraceback\n",
            "    stb = value._render_traceback_()\n",
            "AttributeError: 'IndexError' object has no attribute '_render_traceback_'\n",
            "\n",
            "During handling of the above exception, another exception occurred:\n",
            "\n",
            "Traceback (most recent call last):\n",
            "  File \"/usr/local/lib/python3.7/dist-packages/IPython/core/ultratb.py\", line 1132, in get_records\n",
            "    return _fixed_getinnerframes(etb, number_of_lines_of_context, tb_offset)\n",
            "  File \"/usr/local/lib/python3.7/dist-packages/IPython/core/ultratb.py\", line 313, in wrapped\n",
            "    return f(*args, **kwargs)\n",
            "  File \"/usr/local/lib/python3.7/dist-packages/IPython/core/ultratb.py\", line 358, in _fixed_getinnerframes\n",
            "    records = fix_frame_records_filenames(inspect.getinnerframes(etb, context))\n",
            "  File \"/usr/lib/python3.7/inspect.py\", line 1502, in getinnerframes\n",
            "    frameinfo = (tb.tb_frame,) + getframeinfo(tb, context)\n",
            "  File \"/usr/lib/python3.7/inspect.py\", line 1460, in getframeinfo\n",
            "    filename = getsourcefile(frame) or getfile(frame)\n",
            "  File \"/usr/lib/python3.7/inspect.py\", line 696, in getsourcefile\n",
            "    if getattr(getmodule(object, filename), '__loader__', None) is not None:\n",
            "  File \"/usr/lib/python3.7/inspect.py\", line 725, in getmodule\n",
            "    file = getabsfile(object, _filename)\n",
            "  File \"/usr/lib/python3.7/inspect.py\", line 709, in getabsfile\n",
            "    return os.path.normcase(os.path.abspath(_filename))\n",
            "  File \"/usr/lib/python3.7/posixpath.py\", line 383, in abspath\n",
            "    cwd = os.getcwd()\n",
            "FileNotFoundError: [Errno 2] No such file or directory\n"
          ]
        },
        {
          "output_type": "error",
          "ename": "IndexError",
          "evalue": "ignored",
          "traceback": [
            "\u001b[0;31m---------------------------------------------------------------------------\u001b[0m"
          ]
        }
      ]
    },
    {
      "cell_type": "markdown",
      "metadata": {
        "id": "zwfd4IEkOBRm"
      },
      "source": [
        "### Submission Instructions\n",
        "* Set the link to “Anyone with the link can view”.\n",
        "* Submit the link to Moodle."
      ]
    }
  ]
}