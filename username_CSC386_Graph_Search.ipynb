{
  "nbformat": 4,
  "nbformat_minor": 0,
  "metadata": {
    "colab": {
      "name": "username - CSC386 Graph-Search.ipynb",
      "provenance": [],
      "collapsed_sections": [],
      "include_colab_link": true
    },
    "kernelspec": {
      "name": "python3",
      "display_name": "Python 3"
    },
    "language_info": {
      "name": "python"
    }
  },
  "cells": [
    {
      "cell_type": "markdown",
      "metadata": {
        "id": "view-in-github",
        "colab_type": "text"
      },
      "source": [
        "<a href=\"https://colab.research.google.com/github/martinj2-dot/CSC386-Graph-Search/blob/main/username_CSC386_Graph_Search.ipynb\" target=\"_parent\"><img src=\"https://colab.research.google.com/assets/colab-badge.svg\" alt=\"Open In Colab\"/></a>"
      ]
    },
    {
      "cell_type": "markdown",
      "metadata": {
        "id": "4T579WJkFsck"
      },
      "source": [
        "# T00: Graph Search\n",
        "* This Colab is a companion document to T00: Graph Search.\n",
        "* You should seek help understanding this assignment from the TAs at the evening lab."
      ]
    },
    {
      "cell_type": "markdown",
      "metadata": {
        "id": "0zDwgGWSFxgQ"
      },
      "source": [
        "### Learning Objectives \n",
        "* Practice breaking a larger problem down into smaller pieces using functions.\n",
        "* Gain practice manipulating arrays.\n",
        "* Establish an understanding of graph search algorithms and their applications."
      ]
    },
    {
      "cell_type": "markdown",
      "metadata": {
        "id": "v0A1beWyGEeX"
      },
      "source": [
        "### How to Start\n",
        "* To begin, save a copy in Drive and share it with all members of your team. **Colab does not let you make changes until you save a copy.**\n",
        "* Change the file name of this document to username1, username2 - T00: Graph Search (for example, neillz, martinj2 - A00: Graph Search). \n",
        "* You will not be submitting this document, but you must save it to make changes and folow the interactive segments of T00."
      ]
    },
    {
      "cell_type": "markdown",
      "metadata": {
        "id": "VrPSs9KWgSEV"
      },
      "source": [
        "### Additional Notes\n",
        "This assignment utilizes Google Colab. If you are unfamiliar with Colab, don’t worry. The idea is that you can write both code and read text. \n",
        "- **Real-time saving was deprecated in 2018. Your partner must refresh the page to see your changes.** This is a good time to practice pair programming and the driver/navigator dynamic. \n",
        "-If you are experiencing not defined or not found errors, run the previous code blocks to see if you need to redefine any dependencies. \n",
        "\n",
        "- There is no git workflow associated with this project."
      ]
    },
    {
      "cell_type": "markdown",
      "metadata": {
        "id": "KBSajq-gKROF"
      },
      "source": [
        "# Graph Search"
      ]
    },
    {
      "cell_type": "markdown",
      "metadata": {
        "id": "i3MvR8ftbLRk"
      },
      "source": [
        "*Objective: Our task is to determine the quickest route from Ann Arbor to Marquette.*"
      ]
    },
    {
      "cell_type": "markdown",
      "metadata": {
        "id": "DAM3UqtnJ6eo"
      },
      "source": [
        "The following code downloads and stores our data in a data folder to be used in our searches. It is a text file with the nodes that form the edges and their weights. The file is printed below. "
      ]
    },
    {
      "cell_type": "code",
      "metadata": {
        "colab": {
          "base_uri": "https://localhost:8080/"
        },
        "id": "GIKK-u4uoTjs",
        "outputId": "f0101c83-b8b4-41e8-b633-9e47dbdc20cb"
      },
      "source": [
        "import os, shutil\n",
        "if os.path.exists(\"/content/data\"): shutil.rmtree(\"/content/data\") # avoid accidentally re-downloading the file\n",
        "os.mkdir(\"/content/data\")\n",
        "!wget -P /content/data https://raw.githubusercontent.com/martinj2-dot/CSC386-Graph-Search/main/data.txt # Read the downloaded data\n",
        "with open(\"/content/data/data.txt\") as file: print(\"\\n-----\\nThe file looks like:\\n-----\\n\"+file.read()+\"-----\")"
      ],
      "execution_count": 1,
      "outputs": [
        {
          "output_type": "stream",
          "name": "stdout",
          "text": [
            "--2021-12-07 01:12:10--  https://raw.githubusercontent.com/martinj2-dot/CSC386-Graph-Search/main/data.txt\n",
            "Resolving raw.githubusercontent.com (raw.githubusercontent.com)... 185.199.108.133, 185.199.109.133, 185.199.110.133, ...\n",
            "Connecting to raw.githubusercontent.com (raw.githubusercontent.com)|185.199.108.133|:443... connected.\n",
            "HTTP request sent, awaiting response... 200 OK\n",
            "Length: 424 [text/plain]\n",
            "Saving to: ‘/content/data/data.txt’\n",
            "\n",
            "\rdata.txt              0%[                    ]       0  --.-KB/s               \rdata.txt            100%[===================>]     424  --.-KB/s    in 0s      \n",
            "\n",
            "2021-12-07 01:12:10 (11.3 MB/s) - ‘/content/data/data.txt’ saved [424/424]\n",
            "\n",
            "\n",
            "-----\n",
            "The file looks like:\n",
            "-----\n",
            "benton_harbor kalamazoo 52\n",
            "kalamazoo ann_arbor 99\n",
            "ann_arbor detroit 42\n",
            "benton_harbor grand_rapids 80\n",
            "grand_rapids kalamazoo 50\n",
            "grand_rapids lansing 67\n",
            "lansing ann_arbor 65\n",
            "lansing detroit 90\n",
            "alma lansing 54\n",
            "flint detroit 80\n",
            "flint saginaw 40\n",
            "alma saginaw 38\n",
            "cadillac alma 84\n",
            "traverse_city cadillac 48\n",
            "saginaw alpena 148\n",
            "traverse_city mackinaw_city 116\n",
            "alpena mackinaw_city 94\n",
            "mackinaw_city escanaba 147\n",
            "escanaba marquette 66\n",
            "-----\n"
          ]
        }
      ]
    },
    {
      "cell_type": "markdown",
      "metadata": {
        "id": "eZmb1Y-aNi65"
      },
      "source": [
        "The following code creates the nodes and edges plus their weights. They are stored in nx.nodes(g) and nx.edges(g). We are using the powerful networkx module, which can print out visualizations for us. "
      ]
    },
    {
      "cell_type": "code",
      "metadata": {
        "colab": {
          "base_uri": "https://localhost:8080/",
          "height": 248
        },
        "id": "iTa6eZtrMs2T",
        "outputId": "69a64ecf-d08f-45c7-d49f-cd4340fc304b"
      },
      "source": [
        "import networkx as nx\n",
        "\n",
        "g = nx.Graph()\n",
        "with open(\"/content/data/data.txt\") as file:\n",
        "  lines = file.readlines()\n",
        "  for line in lines:\n",
        "    edges = line.split()\n",
        "    g.add_edge(edges[0], edges[1], weight=edges[2])\n",
        "\n",
        "nx.draw_networkx(g)"
      ],
      "execution_count": 2,
      "outputs": [
        {
          "output_type": "display_data",
          "data": {
            "image/png": "[encoded data removed]",
            "text/plain": [
              "<Figure size 432x288 with 1 Axes>"
            ]
          },
          "metadata": {}
        }
      ]
    },
    {
      "cell_type": "markdown",
      "metadata": {
        "id": "ijV_n8DjtUSb"
      },
      "source": [
        "Networkx populates nx.nodes(g) and nx.edges(g) for us behind the scenes: "
      ]
    },
    {
      "cell_type": "code",
      "metadata": {
        "colab": {
          "base_uri": "https://localhost:8080/"
        },
        "id": "tgCxiLrdtT_x",
        "outputId": "db847598-4aeb-4e1a-e509-2df6f26bb709"
      },
      "source": [
        "print(f\"\\nNodes: {nx.nodes(g)}\")\n",
        "print(f\"Edges: {nx.edges(g)} + \\n\\n\")"
      ],
      "execution_count": 3,
      "outputs": [
        {
          "output_type": "stream",
          "name": "stdout",
          "text": [
            "\n",
            "Nodes: ['benton_harbor', 'kalamazoo', 'ann_arbor', 'detroit', 'grand_rapids', 'lansing', 'alma', 'flint', 'saginaw', 'cadillac', 'traverse_city', 'alpena', 'mackinaw_city', 'escanaba', 'marquette']\n",
            "Edges: [('benton_harbor', 'kalamazoo'), ('benton_harbor', 'grand_rapids'), ('kalamazoo', 'ann_arbor'), ('kalamazoo', 'grand_rapids'), ('ann_arbor', 'detroit'), ('ann_arbor', 'lansing'), ('detroit', 'lansing'), ('detroit', 'flint'), ('grand_rapids', 'lansing'), ('lansing', 'alma'), ('alma', 'saginaw'), ('alma', 'cadillac'), ('flint', 'saginaw'), ('saginaw', 'alpena'), ('cadillac', 'traverse_city'), ('traverse_city', 'mackinaw_city'), ('alpena', 'mackinaw_city'), ('mackinaw_city', 'escanaba'), ('escanaba', 'marquette')] + \n",
            "\n",
            "\n"
          ]
        }
      ]
    },
    {
      "cell_type": "markdown",
      "metadata": {
        "id": "L01tsSs2cFfE"
      },
      "source": [
        "Below is the chronological order of how we would traverse the edges using Breadth First Search."
      ]
    },
    {
      "cell_type": "code",
      "metadata": {
        "colab": {
          "base_uri": "https://localhost:8080/"
        },
        "id": "HI-3xjiGcjj1",
        "outputId": "0c09bfb9-4e13-47ab-ffba-d1251f75a76f"
      },
      "source": [
        "for i in nx.bfs_edges(g, \"ann_arbor\", \"marquette\"): print(f\"{i[0]} --> {i[1]}\")"
      ],
      "execution_count": 22,
      "outputs": [
        {
          "output_type": "stream",
          "name": "stdout",
          "text": [
            "ann_arbor --> kalamazoo\n",
            "ann_arbor --> detroit\n",
            "ann_arbor --> lansing\n",
            "kalamazoo --> benton_harbor\n",
            "kalamazoo --> grand_rapids\n",
            "detroit --> flint\n",
            "lansing --> alma\n",
            "flint --> saginaw\n",
            "alma --> cadillac\n",
            "saginaw --> alpena\n",
            "cadillac --> traverse_city\n",
            "alpena --> mackinaw_city\n",
            "mackinaw_city --> escanaba\n",
            "escanaba --> marquette\n"
          ]
        }
      ]
    },
    {
      "cell_type": "markdown",
      "metadata": {
        "id": "yC6M7jHQZqbb"
      },
      "source": [
        "Dijkstra's Algorithm is one a way to find the quickest path. It uses the same concept as BFS except instead of a normal queue, it uses a priority queue. We can use either BFS or Dijkstra's to find the quickest path from Ann Arbor to Marquette. This is because BFS and Dijkstra's will both arrive at the same solution. "
      ]
    },
    {
      "cell_type": "code",
      "metadata": {
        "colab": {
          "base_uri": "https://localhost:8080/"
        },
        "id": "HLjh2RavF-tr",
        "outputId": "ae335547-4765-4253-e11a-34a0e1a5cd56"
      },
      "source": [
        "nx.dijkstra_path(g, \"ann_arbor\", \"marquette\", \"\")"
      ],
      "execution_count": null,
      "outputs": [
        {
          "output_type": "execute_result",
          "data": {
            "text/plain": [
              "['ann_arbor',\n",
              " 'detroit',\n",
              " 'flint',\n",
              " 'saginaw',\n",
              " 'alpena',\n",
              " 'mackinaw_city',\n",
              " 'escanaba',\n",
              " 'marquette']"
            ]
          },
          "metadata": {},
          "execution_count": 7
        }
      ]
    }
  ]
}