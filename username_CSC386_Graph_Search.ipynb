{
  "nbformat": 4,
  "nbformat_minor": 0,
  "metadata": {
    "colab": {
      "name": "username - CSC386 Graph Search.ipynb",
      "provenance": [],
      "collapsed_sections": [],
      "include_colab_link": true
    },
    "kernelspec": {
      "name": "python3",
      "display_name": "Python 3"
    },
    "language_info": {
      "name": "python"
    }
  },
  "cells": [
    {
      "cell_type": "markdown",
      "metadata": {
        "id": "view-in-github",
        "colab_type": "text"
      },
      "source": [
        "<a href=\"https://colab.research.google.com/github/martinj2-dot/CSC386-Wall-Follower/blob/main/username_CSC386_Graph_Search.ipynb\" target=\"_parent\"><img src=\"https://colab.research.google.com/assets/colab-badge.svg\" alt=\"Open In Colab\"/></a>"
      ]
    },
    {
      "cell_type": "markdown",
      "metadata": {
        "id": "4T579WJkFsck"
      },
      "source": [
        "# A00: Graph Search\n",
        "* This assignment should be done individually or with a partner.\n",
        "* You should seek help completing this assignment from the TAs at the evening lab."
      ]
    },
    {
      "cell_type": "markdown",
      "metadata": {
        "id": "0zDwgGWSFxgQ"
      },
      "source": [
        "### Learning Objectives \n",
        "* Practice breaking a larger problem down into smaller pieces using functions.\n",
        "* Gain practice manipulating arrays.\n",
        "* Establish an understanding of graph search algorithms and their applications."
      ]
    },
    {
      "cell_type": "markdown",
      "metadata": {
        "id": "v0A1beWyGEeX"
      },
      "source": [
        "### How to Start\n",
        "* To begin, save a copy in Drive and share it with all members of your team. **Colab does not let you make changes until you save a copy.**\n",
        "* Change the file name of this document to username1, username2 - A00: Wall Follower (for example, neillz, martinj2 - A00: Graph Search). "
      ]
    },
    {
      "cell_type": "markdown",
      "metadata": {
        "id": "VrPSs9KWgSEV"
      },
      "source": [
        "### Additional Notes\n",
        "This assignment utilizes Google Colab. If you are unfamiliar with Colab, don’t worry. The idea is that you can write both code and read text. **Real-time saving was deprecated in 2018. Your partner must refresh the page to see your changes.** This is a good time to practice pair programming and the driver/navigator dynamic. \n",
        "\n",
        "The assignment has multiple activities. There is no git workflow associated with this project. Once you are finished, submit the link to Moodle."
      ]
    },
    {
      "cell_type": "markdown",
      "metadata": {
        "id": "DAM3UqtnJ6eo"
      },
      "source": [
        "The following code downloads and stores our data in a data folder to be used in our searches. It is a text file with the nodes that form the edges and their weights. The file is printed below. "
      ]
    },
    {
      "cell_type": "code",
      "metadata": {
        "colab": {
          "base_uri": "https://localhost:8080/"
        },
        "id": "GIKK-u4uoTjs",
        "outputId": "d58dc6c2-7852-4d59-8beb-7331e2ef9a7a"
      },
      "source": [
        "import os, shutil\n",
        "if os.path.exists(\"/content/data\"): shutil.rmtree(\"/content/data\") # avoid accidentally re-downloading the file\n",
        "os.mkdir(\"/content/data\")\n",
        "!wget -P /content/data https://raw.githubusercontent.com/martinj2-dot/CSC386-Wall-Follower/main/data.txt # Read the downloaded data\n",
        "with open(\"/content/data/data.txt\") as file: print(\"\\nThe file looks like:\\n\"+file.read())"
      ],
      "execution_count": null,
      "outputs": [
        {
          "output_type": "stream",
          "name": "stdout",
          "text": [
            "--2021-12-05 06:06:10--  https://raw.githubusercontent.com/martinj2-dot/CSC386-Wall-Follower/main/data.txt\n",
            "Resolving raw.githubusercontent.com (raw.githubusercontent.com)... 185.199.108.133, 185.199.109.133, 185.199.110.133, ...\n",
            "Connecting to raw.githubusercontent.com (raw.githubusercontent.com)|185.199.108.133|:443... connected.\n",
            "HTTP request sent, awaiting response... 200 OK\n",
            "Length: 424 [text/plain]\n",
            "Saving to: ‘/content/data/data.txt’\n",
            "\n",
            "\rdata.txt              0%[                    ]       0  --.-KB/s               \rdata.txt            100%[===================>]     424  --.-KB/s    in 0s      \n",
            "\n",
            "2021-12-05 06:06:10 (19.4 MB/s) - ‘/content/data/data.txt’ saved [424/424]\n",
            "\n",
            "\n",
            "The file looks like:\n",
            "benton_harbor kalamazoo 52\n",
            "kalamazoo ann_arbor 99\n",
            "ann_arbor detroit 42\n",
            "benton_harbor grand_rapids 80\n",
            "grand_rapids kalamazoo 50\n",
            "grand_rapids lansing 67\n",
            "lansing ann_arbor 65\n",
            "lansing detroit 90\n",
            "alma lansing 54\n",
            "flint detroit 80\n",
            "flint saginaw 40\n",
            "alma saginaw 38\n",
            "cadillac alma 84\n",
            "traverse_city cadillac 48\n",
            "saginaw alpena 148\n",
            "traverse_city mackinaw_city 116\n",
            "alpena mackinaw_city 94\n",
            "mackinaw_city escanaba 147\n",
            "escanaba marquette 66\n",
            "\n"
          ]
        }
      ]
    },
    {
      "cell_type": "code",
      "metadata": {
        "id": "VmGEMJWyPd7X",
        "colab": {
          "base_uri": "https://localhost:8080/",
          "height": 345
        },
        "outputId": "46237ffa-0edb-4ffa-d08a-1b9e1430a5a8"
      },
      "source": [
        "class Node: \n",
        "  \"\"\"\n",
        "  parent: The index of the parent node of the current node\n",
        "  distances: the distance of each node, inatilized high and updated from data in mi_graph.txt\n",
        "  visited: boolean type, whether or not the node has been visited\n",
        "  queued: boolean type, whether or not the node has been queued\n",
        "  \"\"\"\n",
        "  def __init__(self):\n",
        "    self.parent = -1\n",
        "    self.distances = 1e6\n",
        "    self.visited = False\n",
        "    self.queued = False\n",
        "    self.key_list = []\n",
        "    self.val_list = []\n",
        "class Graph:\n",
        "  def __init__(self): \n",
        "    self.content = open(\"/content/data/data.txt\", \"r\")\n",
        "    self.data = []\n",
        "    self.edge_costs = {}\n",
        "    self.edges = {}\n",
        "    self.nodes = []\n",
        "    self.createGraph()\n",
        "  def createGraph(self):\n",
        "    node = True\n",
        "    count = 0\n",
        "    lines = self.content.readlines()\n",
        "    for line in lines:\n",
        "      if \"^\" in line: \n",
        "        node = False\n",
        "        num_nodes = count\n",
        "      if node: # If the line is a node\n",
        "        self.data.append(line)\n",
        "        count +=1\n",
        "      else:\n",
        "        if not \"^\" in line:\n",
        "          for i in range(num_nodes):\n",
        "            file_to_edge = line.split()\n",
        "            c1 = self.nameToIdx(file_to_edge[0], self.data)\n",
        "            c2 = self.nameToIdx(file_to_edge[1], self.data)\n",
        "            self.edges[file_to_edge[0]] = [c2, i]\n",
        "            self.edges[file_to_edge[1]] = [c1, i]\n",
        "            self.edge_costs[file_to_edge[0]] = [float(file_to_edge[2]), i]\n",
        "            self.edge_costs[file_to_edge[1]] = [float(file_to_edge[2]), i]\n",
        "    edges_list = list(self.edges.keys())\n",
        "    costs_list = list(self.edge_costs.values())\n",
        "    self.edges_list = [edge[1] for edge in len(self.edges_list)]\n",
        "    self.edges_list = [cost[1] for cost in len(self.costs_list)]\n",
        "\n",
        "  def nameToIdx(name, v):\n",
        "    for i in range(len(v)):\n",
        "      if self.edges == name: return i \n",
        "      else: return -1\n",
        "\n",
        "def tracePath(n, g):\n",
        "  path = []\n",
        "  current = n\n",
        "  while current != -1:\n",
        "    path.append(current)\n",
        "    current = getParent(current, g)\n",
        "\n",
        "  # Since we built the path backwards, we need to reverse it.\n",
        "  reverse(path.begin(), path.end())\n",
        "  return path\n",
        "\n",
        "def getNeighbors(n, g): return g.edges[str(n)]\n",
        "\n",
        "def getEdgeCosts(n, g): return g.edge_costs[str(n)]\n",
        "\n",
        "def getParent(idx, g): return g.nodes[idx].parent \n",
        "\n",
        "def initGraph(g):\n",
        "  # populates a vector of nodes with size(graph data)\n",
        "    for i in range(len(g.data)):\n",
        "      node = Node()\n",
        "      g.nodes.append(node)\n",
        "\n",
        "def bfs(start, goal, g):\n",
        "  initGraph(g)\n",
        "  path = []\n",
        "  visit_list = []\n",
        "  currentIdx = start\n",
        "  g.nodes[currentIdx].distances = 0\n",
        "  g.nodes[currentIdx].queued = True\n",
        "  visit_list.append(currentIdx)\n",
        "\n",
        "  while visit_list:\n",
        "    currentIdx = visit_list[0]\n",
        "    g.nodes[currentIdx].visited = True\n",
        "    neighbors = getNeighbors(currentIdx, g)\n",
        "    edge_weights = getEdgeCosts(currentIdx, g)\n",
        "    if currentIdx == goal:           # Checks to see if current node is goal node. Returns path of it is\n",
        "      path = tracePath(currentIdx, g)\n",
        "      break\n",
        "    visit_list.pop()\n",
        "\n",
        "    for i in range(len(neighbors)):                # Populates node data for each node, within the vector of nodes.\n",
        "      if not g.nodes[neighbors[i]].visited:        # Checks to see if the node has been visited\n",
        "        if not g.nodes[neighbors[i]].queued:       # Checks to see if the node has been queued\n",
        "          visit_list.push(neighbors[i])            # Pushes current node to the back of the queue if all conditions are false\n",
        "\n",
        "        if g.nodes[neighbors[i]].distances > g.nodes[currentIdx].distances + edge_weights[i]: # what happens if we run into a loop\n",
        "          g.nodes[neighbors[i]].distances = g.nodes[currentIdx].distances + edge_weights[i] # updates distances of current node\n",
        "          g.nodes[neighbors[i]].parent = currentIdx # sets parent index to current index of the current node\n",
        "  return path\n",
        "\n",
        "def main():\n",
        "  g = Graph()\n",
        "  start = g.nameToIdx(\"ann_arbor\", g.data)\n",
        "  goal = g.nameToIdx(\"marquette\", g.data)\n",
        "\n",
        "  f\"Searching for a path from {g.data[start]} (index: {start}) to {g.data[goal]} (index: {goal})...\\n\"\n",
        "  path = bfs(start, goal, g)\n",
        "  \n",
        "  if len(path) < 1: print(\"No path found :(\\n\")\n",
        "  else:\n",
        "    print(\"Path: \")\n",
        "    for i in range(len(path)-1): f\"{g.data[path[i]]} -> \"\n",
        "    f\"(g.data[path[-1]]\\n\"\n",
        "\n",
        "  return 0\n",
        "\n",
        "if __name__ == \"__main__\":\n",
        "  main()\n"
      ],
      "execution_count": null,
      "outputs": [
        {
          "output_type": "error",
          "ename": "TypeError",
          "evalue": "ignored",
          "traceback": [
            "\u001b[0;31m---------------------------------------------------------------------------\u001b[0m",
            "\u001b[0;31mTypeError\u001b[0m                                 Traceback (most recent call last)",
            "\u001b[0;32m<ipython-input-20-dfe246b8dba4>\u001b[0m in \u001b[0;36m<module>\u001b[0;34m()\u001b[0m\n\u001b[1;32m    122\u001b[0m \u001b[0;34m\u001b[0m\u001b[0m\n\u001b[1;32m    123\u001b[0m \u001b[0;32mif\u001b[0m \u001b[0m__name__\u001b[0m \u001b[0;34m==\u001b[0m \u001b[0;34m\"__main__\"\u001b[0m\u001b[0;34m:\u001b[0m\u001b[0;34m\u001b[0m\u001b[0;34m\u001b[0m\u001b[0m\n\u001b[0;32m--> 124\u001b[0;31m   \u001b[0mmain\u001b[0m\u001b[0;34m(\u001b[0m\u001b[0;34m)\u001b[0m\u001b[0;34m\u001b[0m\u001b[0;34m\u001b[0m\u001b[0m\n\u001b[0m",
            "\u001b[0;32m<ipython-input-20-dfe246b8dba4>\u001b[0m in \u001b[0;36mmain\u001b[0;34m()\u001b[0m\n\u001b[1;32m    106\u001b[0m \u001b[0;34m\u001b[0m\u001b[0m\n\u001b[1;32m    107\u001b[0m \u001b[0;32mdef\u001b[0m \u001b[0mmain\u001b[0m\u001b[0;34m(\u001b[0m\u001b[0;34m)\u001b[0m\u001b[0;34m:\u001b[0m\u001b[0;34m\u001b[0m\u001b[0;34m\u001b[0m\u001b[0m\n\u001b[0;32m--> 108\u001b[0;31m   \u001b[0mg\u001b[0m \u001b[0;34m=\u001b[0m \u001b[0mGraph\u001b[0m\u001b[0;34m(\u001b[0m\u001b[0;34m)\u001b[0m\u001b[0;34m\u001b[0m\u001b[0;34m\u001b[0m\u001b[0m\n\u001b[0m\u001b[1;32m    109\u001b[0m   \u001b[0mstart\u001b[0m \u001b[0;34m=\u001b[0m \u001b[0mg\u001b[0m\u001b[0;34m.\u001b[0m\u001b[0mnameToIdx\u001b[0m\u001b[0;34m(\u001b[0m\u001b[0;34m\"ann_arbor\"\u001b[0m\u001b[0;34m,\u001b[0m \u001b[0mg\u001b[0m\u001b[0;34m.\u001b[0m\u001b[0mdata\u001b[0m\u001b[0;34m)\u001b[0m\u001b[0;34m\u001b[0m\u001b[0;34m\u001b[0m\u001b[0m\n\u001b[1;32m    110\u001b[0m   \u001b[0mgoal\u001b[0m \u001b[0;34m=\u001b[0m \u001b[0mg\u001b[0m\u001b[0;34m.\u001b[0m\u001b[0mnameToIdx\u001b[0m\u001b[0;34m(\u001b[0m\u001b[0;34m\"marquette\"\u001b[0m\u001b[0;34m,\u001b[0m \u001b[0mg\u001b[0m\u001b[0;34m.\u001b[0m\u001b[0mdata\u001b[0m\u001b[0;34m)\u001b[0m\u001b[0;34m\u001b[0m\u001b[0;34m\u001b[0m\u001b[0m\n",
            "\u001b[0;32m<ipython-input-20-dfe246b8dba4>\u001b[0m in \u001b[0;36m__init__\u001b[0;34m(self)\u001b[0m\n\u001b[1;32m     20\u001b[0m     \u001b[0mself\u001b[0m\u001b[0;34m.\u001b[0m\u001b[0medges\u001b[0m \u001b[0;34m=\u001b[0m \u001b[0;34m{\u001b[0m\u001b[0;34m}\u001b[0m\u001b[0;34m\u001b[0m\u001b[0;34m\u001b[0m\u001b[0m\n\u001b[1;32m     21\u001b[0m     \u001b[0mself\u001b[0m\u001b[0;34m.\u001b[0m\u001b[0mnodes\u001b[0m \u001b[0;34m=\u001b[0m \u001b[0;34m[\u001b[0m\u001b[0;34m]\u001b[0m\u001b[0;34m\u001b[0m\u001b[0;34m\u001b[0m\u001b[0m\n\u001b[0;32m---> 22\u001b[0;31m     \u001b[0mself\u001b[0m\u001b[0;34m.\u001b[0m\u001b[0mcreateGraph\u001b[0m\u001b[0;34m(\u001b[0m\u001b[0;34m)\u001b[0m\u001b[0;34m\u001b[0m\u001b[0;34m\u001b[0m\u001b[0m\n\u001b[0m\u001b[1;32m     23\u001b[0m   \u001b[0;32mdef\u001b[0m \u001b[0mcreateGraph\u001b[0m\u001b[0;34m(\u001b[0m\u001b[0mself\u001b[0m\u001b[0;34m)\u001b[0m\u001b[0;34m:\u001b[0m\u001b[0;34m\u001b[0m\u001b[0;34m\u001b[0m\u001b[0m\n\u001b[1;32m     24\u001b[0m     \u001b[0mnode\u001b[0m \u001b[0;34m=\u001b[0m \u001b[0;32mTrue\u001b[0m\u001b[0;34m\u001b[0m\u001b[0;34m\u001b[0m\u001b[0m\n",
            "\u001b[0;32m<ipython-input-20-dfe246b8dba4>\u001b[0m in \u001b[0;36mcreateGraph\u001b[0;34m(self)\u001b[0m\n\u001b[1;32m     36\u001b[0m           \u001b[0;32mfor\u001b[0m \u001b[0mi\u001b[0m \u001b[0;32min\u001b[0m \u001b[0mrange\u001b[0m\u001b[0;34m(\u001b[0m\u001b[0mnum_nodes\u001b[0m\u001b[0;34m)\u001b[0m\u001b[0;34m:\u001b[0m\u001b[0;34m\u001b[0m\u001b[0;34m\u001b[0m\u001b[0m\n\u001b[1;32m     37\u001b[0m             \u001b[0mfile_to_edge\u001b[0m \u001b[0;34m=\u001b[0m \u001b[0mline\u001b[0m\u001b[0;34m.\u001b[0m\u001b[0msplit\u001b[0m\u001b[0;34m(\u001b[0m\u001b[0;34m)\u001b[0m\u001b[0;34m\u001b[0m\u001b[0;34m\u001b[0m\u001b[0m\n\u001b[0;32m---> 38\u001b[0;31m             \u001b[0mc1\u001b[0m \u001b[0;34m=\u001b[0m \u001b[0mself\u001b[0m\u001b[0;34m.\u001b[0m\u001b[0mnameToIdx\u001b[0m\u001b[0;34m(\u001b[0m\u001b[0mfile_to_edge\u001b[0m\u001b[0;34m[\u001b[0m\u001b[0;36m0\u001b[0m\u001b[0;34m]\u001b[0m\u001b[0;34m,\u001b[0m \u001b[0mself\u001b[0m\u001b[0;34m.\u001b[0m\u001b[0mdata\u001b[0m\u001b[0;34m)\u001b[0m\u001b[0;34m\u001b[0m\u001b[0;34m\u001b[0m\u001b[0m\n\u001b[0m\u001b[1;32m     39\u001b[0m             \u001b[0mc2\u001b[0m \u001b[0;34m=\u001b[0m \u001b[0mself\u001b[0m\u001b[0;34m.\u001b[0m\u001b[0mnameToIdx\u001b[0m\u001b[0;34m(\u001b[0m\u001b[0mfile_to_edge\u001b[0m\u001b[0;34m[\u001b[0m\u001b[0;36m1\u001b[0m\u001b[0;34m]\u001b[0m\u001b[0;34m,\u001b[0m \u001b[0mself\u001b[0m\u001b[0;34m.\u001b[0m\u001b[0mdata\u001b[0m\u001b[0;34m)\u001b[0m\u001b[0;34m\u001b[0m\u001b[0;34m\u001b[0m\u001b[0m\n\u001b[1;32m     40\u001b[0m             \u001b[0mself\u001b[0m\u001b[0;34m.\u001b[0m\u001b[0medges\u001b[0m\u001b[0;34m[\u001b[0m\u001b[0mfile_to_edge\u001b[0m\u001b[0;34m[\u001b[0m\u001b[0;36m0\u001b[0m\u001b[0;34m]\u001b[0m\u001b[0;34m]\u001b[0m \u001b[0;34m=\u001b[0m \u001b[0;34m[\u001b[0m\u001b[0mc2\u001b[0m\u001b[0;34m,\u001b[0m \u001b[0mi\u001b[0m\u001b[0;34m]\u001b[0m\u001b[0;34m\u001b[0m\u001b[0;34m\u001b[0m\u001b[0m\n",
            "\u001b[0;31mTypeError\u001b[0m: nameToIdx() takes 2 positional arguments but 3 were given"
          ]
        }
      ]
    },
    {
      "cell_type": "markdown",
      "metadata": {
        "id": "eZmb1Y-aNi65"
      },
      "source": [
        "The following code creates the nodes and edges plus their weights. They are stored in nx.nodes(g) and nx.edges(g). We are using the powerful networkx module. Networkx populates nx.nodes(g) and nx.edges(g) for us behind the scenes. "
      ]
    },
    {
      "cell_type": "code",
      "metadata": {
        "colab": {
          "base_uri": "https://localhost:8080/",
          "height": 355
        },
        "id": "iTa6eZtrMs2T",
        "outputId": "847a8448-a680-49c5-9be4-42ba4fc8ad44"
      },
      "source": [
        "import networkx as nx\n",
        "# import matplotlib.pyplot as plt\n",
        "\n",
        "g = nx.Graph()\n",
        "with open(\"/content/data/data.txt\") as file:\n",
        "  lines = file.readlines()\n",
        "  for line in lines:\n",
        "    edges = line.split()\n",
        "    g.add_edge(edges[0], edges[1], weight=edges[2])\n",
        "print(\"\\nNodes: \" + str(nx.nodes(g)))\n",
        "print(\"Edges: \" + str(nx.edges(g)) + \"\\n\\n\")\n",
        "nx.draw_networkx(g)"
      ],
      "execution_count": null,
      "outputs": [
        {
          "output_type": "stream",
          "name": "stdout",
          "text": [
            "\n",
            "Nodes: ['benton_harbor', 'kalamazoo', 'ann_arbor', 'detroit', 'grand_rapids', 'lansing', 'alma', 'flint', 'saginaw', 'cadillac', 'traverse_city', 'alpena', 'mackinaw_city', 'escanaba', 'marquette']\n",
            "Edges: [('benton_harbor', 'kalamazoo'), ('benton_harbor', 'grand_rapids'), ('kalamazoo', 'ann_arbor'), ('kalamazoo', 'grand_rapids'), ('ann_arbor', 'detroit'), ('ann_arbor', 'lansing'), ('detroit', 'lansing'), ('detroit', 'flint'), ('grand_rapids', 'lansing'), ('lansing', 'alma'), ('alma', 'saginaw'), ('alma', 'cadillac'), ('flint', 'saginaw'), ('saginaw', 'alpena'), ('cadillac', 'traverse_city'), ('traverse_city', 'mackinaw_city'), ('alpena', 'mackinaw_city'), ('mackinaw_city', 'escanaba'), ('escanaba', 'marquette')]\n",
            "\n",
            "\n"
          ]
        },
        {
          "output_type": "display_data",
          "data": {
            "image/png": "[encoded data removed]",
            "text/plain": [
              "<Figure size 432x288 with 1 Axes>"
            ]
          },
          "metadata": {}
        }
      ]
    },
    {
      "cell_type": "code",
      "metadata": {
        "colab": {
          "base_uri": "https://localhost:8080/"
        },
        "id": "HLjh2RavF-tr",
        "outputId": "2e4b220a-47bf-4960-c007-732ded9e8576"
      },
      "source": [
        "nx.dijkstra_path(g, \"ann_arbor\", \"marquette\", \"\")\n",
        "# start = \"ann_arbor\"\n",
        "# bfs_route = list(nx.bfs_edges(g, start))\n",
        "# start = 0\n",
        "# current_weight = 0\n",
        "# visit_list = []\n",
        "\n",
        "# for edge in bfs_route: \n",
        "#   if edge[0] in visit_list: \n",
        "#     if weight < \n",
        "#     pass \n",
        "#   else:\n",
        "#     weight = g[edge[0]][edge[1]])\n",
        "#     visit_list.append(weight)\n",
        "\n",
        "\n",
        "# path = []\n",
        "# start = \"ann_arbor\"\n",
        "# g.nodes[start] = 0\n",
        "# g.nodes[start].queued = True\n",
        "# visit_list = []\n",
        "# visit_list.append(start)\n",
        "# while visit_list:\n",
        "#   current = visit_list[0]\n",
        "#   g.nodes[current].visited = True\n",
        "#   neighbors = nx.all_neighbors(g)\n",
        "#   edge_weights = getEdgeCosts(currentIdx, g)\n",
        "#   if currentIdx == goal:           # Checks to see if current node is goal node. Returns path of it is\n",
        "#     path = tracePath(currentIdx, g)\n",
        "#     break\n",
        "#   visit_list.pop()\n",
        "\n",
        "#   for i in range(len(neighbors)):                # Populates node data for each node, within the vector of nodes.\n",
        "#     if not g.nodes[neighbors[i]].visited:        # Checks to see if the node has been visited\n",
        "#       if not g.nodes[neighbors[i]].queued:       # Checks to see if the node has been queued\n",
        "#         visit_list.push(neighbors[i])            # Pushes current node to the back of the queue if all conditions are false\n",
        "\n",
        "#       if g.nodes[neighbors[i]].distances > g.nodes[currentIdx].distances + edge_weights[i]: # what happens if we run into a loop\n",
        "#         g.nodes[neighbors[i]].distances = g.nodes[currentIdx].distances + edge_weights[i] # updates distances of current node\n",
        "#         g.nodes[neighbors[i]].parent = currentIdx # sets parent index to current index of the current node\n",
        "\n",
        "# print(list(nx.all_neighbors(g, \"mackinaw_city\")))"
      ],
      "execution_count": null,
      "outputs": [
        {
          "output_type": "execute_result",
          "data": {
            "text/plain": [
              "['ann_arbor',\n",
              " 'detroit',\n",
              " 'flint',\n",
              " 'saginaw',\n",
              " 'alpena',\n",
              " 'mackinaw_city',\n",
              " 'escanaba',\n",
              " 'marquette']"
            ]
          },
          "metadata": {},
          "execution_count": 11
        }
      ]
    },
    {
      "cell_type": "code",
      "metadata": {
        "colab": {
          "base_uri": "https://localhost:8080/"
        },
        "id": "cBw3-vw5oKs0",
        "outputId": "76773272-a071-491b-fcb7-59965ae5d526"
      },
      "source": [
        "from collections import deque\n",
        "\n",
        "class Node:\n",
        "  def __init__(self, key):\n",
        "    # unique ID for node\n",
        "    self.id = key\n",
        "    # dict of connected nodes\n",
        "    self.connected_to = {}\n",
        "  \n",
        "  def add_neighbor(self, neighbor, weight=0):\n",
        "    # Add an entry to the connected_to dict with a given weight         \n",
        "    self.connected_to[neighbor] = weight\n",
        "      \n",
        "  def __str__(self):\n",
        "    # override __str__ for printing         \n",
        "    return(str(self.id) + ' connected to: ' + str([x.id for x in self.connected_to]))\n",
        "  \n",
        "  def get_connections(self):\n",
        "    # return keys from connected_to dict\n",
        "    return self.connected_to.keys()\n",
        "  \n",
        "  def get_id(self):\n",
        "    # return node id's\n",
        "    return self.id\n",
        "  \n",
        "  def get_weight(self):\n",
        "    # return weights of edges connected to node \n",
        "    return self.connected_to[neighbor]\n",
        "\n",
        "class Graph:\n",
        "  def __init__(self):\n",
        "    # dictionary of nodes         \n",
        "    self.nodes_list = {}\n",
        "    # node count         \n",
        "    self.num_nodes = 0\n",
        "      \n",
        "  def add_node(self, key):\n",
        "    # increment counter when adding node\n",
        "    self.num_nodes = self.num_nodes + 1\n",
        "    new_node = Node(key)\n",
        "    self.nodes_list[key] = new_node\n",
        "    return new_node\n",
        "  \n",
        "  def get_node(self, n):\n",
        "    # check if node exists, return if True\n",
        "    if n in self.nodes_list:\n",
        "      return self.nodes_list[n]\n",
        "    else: return None\n",
        "      \n",
        "  def __contains__(self, n):\n",
        "      # override __contains__ to list all nodes in Graph object\n",
        "      return n in self.nodes_list\n",
        "  \n",
        "  def add_edge(self, s, f, cost=0):\n",
        "    # add edge to graph; s = start node; e = end node\n",
        "    if s not in self.nodes_list:\n",
        "      nv = self.add_node(s)\n",
        "    if f not in self.nodes_list:\n",
        "      nv = self.add_node(f)\n",
        "    self.nodes_list[s].add_neighbor(self.nodes_list[f], cost)\n",
        "      \n",
        "  def get_nodes(self):\n",
        "    # return keys of nodes in Graph\n",
        "    return self.nodes_list.keys()\n",
        "  \n",
        "  def __iter__(self):\n",
        "    # override __iter__ to return iterable of nodes\n",
        "    return iter(self.nodes_list.values())\n",
        "  \n",
        "node_names = [\"A\", \"B\", \"C\", \"D\", \"E\", \"F\", \"G\"]\n",
        "# Instantiate graph object and add nodes \n",
        "g = Graph()\n",
        "\n",
        "for i in node_names:\n",
        "  g.add_node(i)\n",
        "\n",
        "# add a bunch of edges between nodes \n",
        "g.add_edge('A','B')\n",
        "g.add_edge('B','C')\n",
        "g.add_edge('C','E')\n",
        "g.add_edge('E','D')\n",
        "g.add_edge('D','B')\n",
        "g.add_edge('E','F')\n",
        "g.add_edge('B','E')\n",
        "for v in g:\n",
        "  for w in v.get_connections():\n",
        "    print(\"(%s, %s)\" % (v.get_id(), w.get_id()))\n",
        "\n",
        "# list our vertices \n",
        "for i in node_names:\n",
        "  print(g.get_node(i))\n",
        "\n",
        "\n",
        "def breadth_first_search(starting_node, goal_node):\n",
        "  visited_nodes = set()\n",
        "  queue = deque([starting_node])\n",
        "  \n",
        "  while len(queue) > 0:\n",
        "    node = queue.pop()\n",
        "    if node in visited_nodes:\n",
        "      continue\n",
        "    \n",
        "    visited_nodes.add(node)\n",
        "    if node.get_id == goal_node.get_id:\n",
        "      return True\n",
        "    \n",
        "    for n in node.connected_to:\n",
        "      if n not in visited_nodes:\n",
        "        queue.appendleft(n)\n",
        "  return False\n",
        "\n",
        "print(breadth_first_search(g.get_node('A'), g.get_node('G')))\n"
      ],
      "execution_count": null,
      "outputs": [
        {
          "output_type": "stream",
          "name": "stdout",
          "text": [
            "(A, B)\n",
            "(B, C)\n",
            "(B, E)\n",
            "(C, E)\n",
            "(D, B)\n",
            "(E, D)\n",
            "(E, F)\n",
            "A connected to: ['B']\n",
            "B connected to: ['C', 'E']\n",
            "C connected to: ['E']\n",
            "D connected to: ['B']\n",
            "E connected to: ['D', 'F']\n",
            "F connected to: []\n",
            "G connected to: []\n",
            "False\n"
          ]
        }
      ]
    },
    {
      "cell_type": "markdown",
      "metadata": {
        "id": "zwfd4IEkOBRm"
      },
      "source": [
        "### Submission Instructions\n",
        "* Set the link to “Anyone with the link can view”.\n",
        "* Submit the link to Moodle."
      ]
    }
  ]
}